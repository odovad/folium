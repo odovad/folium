{
 "cells": [
  {
   "cell_type": "code",
   "execution_count": 1,
   "metadata": {},
   "outputs": [
    {
     "name": "stdout",
     "output_type": "stream",
     "text": [
      "0.3.0+212.g4baa5fa.dirty\n"
     ]
    }
   ],
   "source": [
    "import os\n",
    "import folium\n",
    "\n",
    "print(folium.__version__)"
   ]
  },
  {
   "cell_type": "markdown",
   "metadata": {},
   "source": [
    " # Hacking folium"
   ]
  },
  {
   "cell_type": "code",
   "execution_count": 2,
   "metadata": {
    "collapsed": true
   },
   "outputs": [],
   "source": [
    "from folium.features import Template\n",
    "import json\n",
    "\n",
    "\n",
    "class Map3d(folium.Map):\n",
    "\n",
    "    def __init__(self, location=None, width='100%', height='100%', left='0%',\n",
    "                 top='0%', position='relative', tiles='OpenStreetMap', API_key=None,\n",
    "                 max_zoom=18, min_zoom=1, zoom_start=10, attr=None, min_lat=-90,\n",
    "                 max_lat=90, min_lon=-180, max_lon=180, detect_retina=False, crs='EPSG3857'):\n",
    "        super(Map3d, self).__init__(\n",
    "            location=location, width=width, height=height,\n",
    "            left=left, top=top, position=position, tiles=tiles,\n",
    "            API_key=API_key, max_zoom=max_zoom, min_zoom=min_zoom,\n",
    "            zoom_start=zoom_start, attr=attr, min_lat=min_lat,\n",
    "            max_lat=max_lat, min_lon=min_lon, max_lon=max_lon,\n",
    "            detect_retina=detect_retina, crs=crs\n",
    "        )\n",
    "        self._template = Template(u\"\"\"\n",
    "        {% macro header(this, kwargs) %}\n",
    "            <script src=\"https://www.webglearth.com/v2/api.js\"></script>\n",
    "            <style> #{{this.get_name()}} {\n",
    "                position : {{this.position}};\n",
    "                width : {{this.width[0]}}{{this.width[1]}};\n",
    "                height: {{this.height[0]}}{{this.height[1]}};\n",
    "                left: {{this.left[0]}}{{this.left[1]}};\n",
    "                top: {{this.top[0]}}{{this.top[1]}};\n",
    "                }\n",
    "            </style>\n",
    "        {% endmacro %}\n",
    "        {% macro html(this, kwargs) %}\n",
    "            <div class=\"folium-map\" id=\"{{this.get_name()}}\" ></div>\n",
    "        {% endmacro %}\n",
    "\n",
    "        {% macro script(this, kwargs) %}\n",
    "\n",
    "            var southWest = L.latLng({{ this.min_lat }}, {{ this.min_lon }});\n",
    "            var northEast = L.latLng({{ this.max_lat }}, {{ this.max_lon }});\n",
    "            var bounds = L.latLngBounds(southWest, northEast);\n",
    "\n",
    "            var {{this.get_name()}} = WE.map('{{this.get_name()}}', {\n",
    "                                           center:[{{this.location[0]}},{{this.location[1]}}],\n",
    "                                           zoom: {{this.zoom_start}},\n",
    "                                           maxBounds: bounds,\n",
    "                                           layers: [],\n",
    "                                           crs: L.CRS.{{this.crs}}\n",
    "                                         });\n",
    "        {% endmacro %}\n",
    "        \"\"\")\n",
    "\n",
    "\n",
    "class TileLayer3d(folium.TileLayer):\n",
    "\n",
    "    def __init__(self, tiles='OpenStreetMap', min_zoom=1, max_zoom=18, attr=None,\n",
    "                 API_key=None, detect_retina=False, name=None, overlay=False, control=True):\n",
    "        super(TileLayer3d, self).__init__(\n",
    "            tiles=tiles, min_zoom=min_zoom, max_zoom=max_zoom,\n",
    "            attr=attr, API_key=API_key, detect_retina=detect_retina,\n",
    "            name=name, overlay=overlay, control=control\n",
    "        )\n",
    "        options = {\n",
    "            'minZoom': min_zoom,\n",
    "            'maxZoom': max_zoom,\n",
    "            'attribution': attr,\n",
    "            'detectRetina': detect_retina,\n",
    "        }\n",
    "        self.options = json.dumps(options, sort_keys=True, indent=2)\n",
    "        self._template = Template(u\"\"\"\n",
    "        {% macro script(this, kwargs) %}\n",
    "            var {{this.get_name()}} = WE.tileLayer(\n",
    "                '{{this.tiles}}',\n",
    "                {{ this.options }}\n",
    "                ).addTo({{this._parent.get_name()}});\n",
    "\n",
    "        {% endmacro %}\n",
    "        \"\"\")"
   ]
  },
  {
   "cell_type": "code",
   "execution_count": 3,
   "metadata": {},
   "outputs": [
    {
     "data": {
      "text/html": [
       "<div style=\"width:100%;\"><div style=\"position:relative;width:100%;height:0;padding-bottom:60%;\"><iframe src=\"data:text/html;charset=utf-8;base64,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\" style=\"position:absolute;width:100%;height:100%;left:0;top:0;border:none !important;\" allowfullscreen webkitallowfullscreen mozallowfullscreen></iframe></div></div>"
      ],
      "text/plain": [
       "<__main__.Map3d at 0x7f16b8097e48>"
      ]
     },
     "execution_count": 3,
     "metadata": {},
     "output_type": "execute_result"
    }
   ],
   "source": [
    "m = Map3d(location=[-42, -42], tiles=None, zoom_start=2)\n",
    "\n",
    "m.add_child(TileLayer3d(tiles='OpenStreetMap'))\n",
    "\n",
    "url = ('http://services.arcgisonline.com/arcgis/rest/services'\n",
    "       'Ocean/World_Ocean_Base'\n",
    "       'MapServer/tile/{z}/{y}/{x}')\n",
    "\n",
    "folium.TileLayer(\n",
    "    tiles=url,\n",
    "    name='World_Ocean_Base',\n",
    "    attr='ESRI',\n",
    "    overlay=True\n",
    ").add_to(m)\n",
    "\n",
    "\n",
    "m.save(os.path.join('results', 'Hacking_folium_3D_globe.html'))\n",
    "\n",
    "m"
   ]
  }
 ],
 "metadata": {
  "kernelspec": {
   "display_name": "Python 3",
   "language": "python",
   "name": "python3"
  },
  "language_info": {
   "codemirror_mode": {
    "name": "ipython",
    "version": 3
   },
   "file_extension": ".py",
   "mimetype": "text/x-python",
   "name": "python",
   "nbconvert_exporter": "python",
   "pygments_lexer": "ipython3",
   "version": "3.6.2"
  }
 },
 "nbformat": 4,
 "nbformat_minor": 1
}
